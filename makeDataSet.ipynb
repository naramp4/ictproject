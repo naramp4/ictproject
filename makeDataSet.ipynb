{
 "cells": [
  {
   "cell_type": "code",
   "execution_count": 1,
   "metadata": {},
   "outputs": [
    {
     "name": "stderr",
     "output_type": "stream",
     "text": [
      "/Users/sw/anaconda3/lib/python3.6/site-packages/konlpy/tag/_okt.py:16: UserWarning: \"Twitter\" has changed to \"Okt\" since KoNLPy v0.4.5.\n",
      "  warn('\"Twitter\" has changed to \"Okt\" since KoNLPy v0.4.5.')\n"
     ]
    }
   ],
   "source": [
    "import os, sys\n",
    "import numpy as np\n",
    "import pandas as pd\n",
    "import json\n",
    "from glob import glob\n",
    "import csv\n",
    "from konlpy.tag import Twitter\n",
    "twitter = Twitter()"
   ]
  },
  {
   "cell_type": "code",
   "execution_count": 14,
   "metadata": {},
   "outputs": [],
   "source": [
    "def add_review(data):\n",
    "    for i in data:\n",
    "        review = i[\"review\"]\n",
    "        rate = i[\"rating\"]\n",
    "        stem = twitter.pos(review, norm=True, stem=True)\n",
    "        review = remove_stem(stem)\n",
    "        \n",
    "        if int(rate) < 4:\n",
    "            output = 0\n",
    "        elif int(rate) > 6:\n",
    "            output = 2\n",
    "        else:\n",
    "            output = 1\n",
    "            \n",
    "        with open('./dataset/review_data3.csv', 'a', encoding='utf-8', newline='') as f:\n",
    "            wr = csv.writer(f)\n",
    "            wr.writerow([review, rate, output])"
   ]
  },
  {
   "cell_type": "code",
   "execution_count": 2,
   "metadata": {},
   "outputs": [],
   "source": [
    "def remove_stem(stem):\n",
    "    new_stem = [word for word, func in stem \n",
    "                if func not in ['URL', 'Foreign', 'Punctuation', 'KoreanParticle','Josa']]\n",
    "    return ' '.join(new_stem)"
   ]
  },
  {
   "cell_type": "code",
   "execution_count": null,
   "metadata": {},
   "outputs": [],
   "source": []
  },
  {
   "cell_type": "code",
   "execution_count": null,
   "metadata": {},
   "outputs": [],
   "source": [
    "# def remove_stem(stem):\n",
    "#     for i, val in enumerate(stem):\n",
    "#         if val[1] in ('URL', 'Foreign', 'Punctuation', 'KoreanParticle'):\n",
    "#             stem.pop(i)\n",
    "\n",
    "#     stem = np.array(stem)\n",
    "#     stem = np.delete(stem, 1, 1)\n",
    "#     stem = np.concatenate(stem, axis=None)\n",
    "#     stem = ' '.join(stem)\n",
    "#     return stem"
   ]
  },
  {
   "cell_type": "code",
   "execution_count": 16,
   "metadata": {},
   "outputs": [
    {
     "ename": "KeyboardInterrupt",
     "evalue": "",
     "output_type": "error",
     "traceback": [
      "\u001b[0;31m---------------------------------------------------------------------------\u001b[0m",
      "\u001b[0;31mKeyboardInterrupt\u001b[0m                         Traceback (most recent call last)",
      "\u001b[0;32m<ipython-input-16-18734c0d1146>\u001b[0m in \u001b[0;36m<module>\u001b[0;34m()\u001b[0m\n\u001b[1;32m      7\u001b[0m     \u001b[0;32mwith\u001b[0m \u001b[0mopen\u001b[0m\u001b[0;34m(\u001b[0m\u001b[0mi\u001b[0m\u001b[0;34m)\u001b[0m \u001b[0;32mas\u001b[0m \u001b[0mdata_file\u001b[0m\u001b[0;34m:\u001b[0m\u001b[0;34m\u001b[0m\u001b[0m\n\u001b[1;32m      8\u001b[0m         \u001b[0mdata\u001b[0m \u001b[0;34m=\u001b[0m \u001b[0mjson\u001b[0m\u001b[0;34m.\u001b[0m\u001b[0mload\u001b[0m\u001b[0;34m(\u001b[0m\u001b[0mdata_file\u001b[0m\u001b[0;34m)\u001b[0m\u001b[0;34m\u001b[0m\u001b[0m\n\u001b[0;32m----> 9\u001b[0;31m         \u001b[0madd_review\u001b[0m\u001b[0;34m(\u001b[0m\u001b[0mdata\u001b[0m\u001b[0;34m)\u001b[0m\u001b[0;34m\u001b[0m\u001b[0m\n\u001b[0m",
      "\u001b[0;32m<ipython-input-14-598b914d8045>\u001b[0m in \u001b[0;36madd_review\u001b[0;34m(data)\u001b[0m\n\u001b[1;32m      3\u001b[0m         \u001b[0mreview\u001b[0m \u001b[0;34m=\u001b[0m \u001b[0mi\u001b[0m\u001b[0;34m[\u001b[0m\u001b[0;34m\"review\"\u001b[0m\u001b[0;34m]\u001b[0m\u001b[0;34m\u001b[0m\u001b[0m\n\u001b[1;32m      4\u001b[0m         \u001b[0mrate\u001b[0m \u001b[0;34m=\u001b[0m \u001b[0mi\u001b[0m\u001b[0;34m[\u001b[0m\u001b[0;34m\"rating\"\u001b[0m\u001b[0;34m]\u001b[0m\u001b[0;34m\u001b[0m\u001b[0m\n\u001b[0;32m----> 5\u001b[0;31m         \u001b[0mstem\u001b[0m \u001b[0;34m=\u001b[0m \u001b[0mtwitter\u001b[0m\u001b[0;34m.\u001b[0m\u001b[0mpos\u001b[0m\u001b[0;34m(\u001b[0m\u001b[0mreview\u001b[0m\u001b[0;34m,\u001b[0m \u001b[0mnorm\u001b[0m\u001b[0;34m=\u001b[0m\u001b[0;32mTrue\u001b[0m\u001b[0;34m,\u001b[0m \u001b[0mstem\u001b[0m\u001b[0;34m=\u001b[0m\u001b[0;32mTrue\u001b[0m\u001b[0;34m)\u001b[0m\u001b[0;34m\u001b[0m\u001b[0m\n\u001b[0m\u001b[1;32m      6\u001b[0m         \u001b[0mreview\u001b[0m \u001b[0;34m=\u001b[0m \u001b[0mremove_stem\u001b[0m\u001b[0;34m(\u001b[0m\u001b[0mstem\u001b[0m\u001b[0;34m)\u001b[0m\u001b[0;34m\u001b[0m\u001b[0m\n\u001b[1;32m      7\u001b[0m \u001b[0;34m\u001b[0m\u001b[0m\n",
      "\u001b[0;32m~/anaconda3/lib/python3.6/site-packages/konlpy/tag/_okt.py\u001b[0m in \u001b[0;36mpos\u001b[0;34m(self, phrase, norm, stem, join)\u001b[0m\n\u001b[1;32m     61\u001b[0m                     \u001b[0mphrase\u001b[0m\u001b[0;34m,\u001b[0m\u001b[0;34m\u001b[0m\u001b[0m\n\u001b[1;32m     62\u001b[0m                     \u001b[0mjpype\u001b[0m\u001b[0;34m.\u001b[0m\u001b[0mjava\u001b[0m\u001b[0;34m.\u001b[0m\u001b[0mlang\u001b[0m\u001b[0;34m.\u001b[0m\u001b[0mBoolean\u001b[0m\u001b[0;34m(\u001b[0m\u001b[0mnorm\u001b[0m\u001b[0;34m)\u001b[0m\u001b[0;34m,\u001b[0m\u001b[0;34m\u001b[0m\u001b[0m\n\u001b[0;32m---> 63\u001b[0;31m                     jpype.java.lang.Boolean(stem)).toArray()\n\u001b[0m\u001b[1;32m     64\u001b[0m         \u001b[0;32mif\u001b[0m \u001b[0mjoin\u001b[0m\u001b[0;34m:\u001b[0m\u001b[0;34m\u001b[0m\u001b[0m\n\u001b[1;32m     65\u001b[0m             \u001b[0;32mreturn\u001b[0m \u001b[0;34m[\u001b[0m\u001b[0mt\u001b[0m \u001b[0;32mfor\u001b[0m \u001b[0mt\u001b[0m \u001b[0;32min\u001b[0m \u001b[0mtokens\u001b[0m\u001b[0;34m]\u001b[0m\u001b[0;34m\u001b[0m\u001b[0m\n",
      "\u001b[0;32m~/anaconda3/lib/python3.6/site-packages/jpype/_jclass.py\u001b[0m in \u001b[0;36m_getClassFor\u001b[0;34m(javaClass)\u001b[0m\n\u001b[1;32m     76\u001b[0m \u001b[0;34m\u001b[0m\u001b[0m\n\u001b[1;32m     77\u001b[0m \u001b[0;34m\u001b[0m\u001b[0m\n\u001b[0;32m---> 78\u001b[0;31m \u001b[0;32mdef\u001b[0m \u001b[0m_getClassFor\u001b[0m\u001b[0;34m(\u001b[0m\u001b[0mjavaClass\u001b[0m\u001b[0;34m)\u001b[0m\u001b[0;34m:\u001b[0m\u001b[0;34m\u001b[0m\u001b[0m\n\u001b[0m\u001b[1;32m     79\u001b[0m     \u001b[0mname\u001b[0m \u001b[0;34m=\u001b[0m \u001b[0mjavaClass\u001b[0m\u001b[0;34m.\u001b[0m\u001b[0mgetName\u001b[0m\u001b[0;34m(\u001b[0m\u001b[0;34m)\u001b[0m\u001b[0;34m\u001b[0m\u001b[0m\n\u001b[1;32m     80\u001b[0m     \u001b[0;32mif\u001b[0m \u001b[0mname\u001b[0m \u001b[0;32min\u001b[0m \u001b[0m_CLASSES\u001b[0m\u001b[0;34m:\u001b[0m\u001b[0;34m\u001b[0m\u001b[0m\n",
      "\u001b[0;31mKeyboardInterrupt\u001b[0m: "
     ]
    }
   ],
   "source": [
    "# glob는 윈도우의 dir 명령어나 리눅스와 ls 명령어와 유사한 기능을 가지고 있다. \n",
    "# 경로들을 불러올 때 유용하며, *를 사용하여 한번에 조건에 맞는 경로들을 가지고 올 수 있다. \n",
    "json_list = glob('./dataset/raw/*.json')\n",
    "\n",
    "\n",
    "for i in json_list:\n",
    "    with open(i) as data_file:\n",
    "        data = json.load(data_file)\n",
    "        add_review(data)"
   ]
  },
  {
   "cell_type": "code",
   "execution_count": 3,
   "metadata": {},
   "outputs": [
    {
     "data": {
      "text/html": [
       "<div>\n",
       "<style scoped>\n",
       "    .dataframe tbody tr th:only-of-type {\n",
       "        vertical-align: middle;\n",
       "    }\n",
       "\n",
       "    .dataframe tbody tr th {\n",
       "        vertical-align: top;\n",
       "    }\n",
       "\n",
       "    .dataframe thead th {\n",
       "        text-align: right;\n",
       "    }\n",
       "</style>\n",
       "<table border=\"1\" class=\"dataframe\">\n",
       "  <thead>\n",
       "    <tr style=\"text-align: right;\">\n",
       "      <th></th>\n",
       "      <th>review</th>\n",
       "      <th>rate</th>\n",
       "      <th>emotion</th>\n",
       "    </tr>\n",
       "  </thead>\n",
       "  <tbody>\n",
       "    <tr>\n",
       "      <th>1</th>\n",
       "      <td>원작이 칭송받는 이유는 웹툰 계 자체의 질적 저하가 심각하기 때문.  원작이나 영화...</td>\n",
       "      <td>1</td>\n",
       "      <td>0</td>\n",
       "    </tr>\n",
       "    <tr>\n",
       "      <th>2</th>\n",
       "      <td>나름의  감동도 있고 안타까운 마음에 가슴도 먹먹  배우들의 연기가 good 김수현...</td>\n",
       "      <td>10</td>\n",
       "      <td>2</td>\n",
       "    </tr>\n",
       "    <tr>\n",
       "      <th>3</th>\n",
       "      <td>이런걸 돈주고 본 내자신이 후회스럽다 최악의 쓰레기 영화 김수현 밖에없는 저질 삼류영화</td>\n",
       "      <td>1</td>\n",
       "      <td>0</td>\n",
       "    </tr>\n",
       "    <tr>\n",
       "      <th>4</th>\n",
       "      <td>초반엔 코미디, 후반엔 액션, 결론은 코미디.</td>\n",
       "      <td>7</td>\n",
       "      <td>2</td>\n",
       "    </tr>\n",
       "    <tr>\n",
       "      <th>6</th>\n",
       "      <td>원작 어디에 팔아 먹었죠????</td>\n",
       "      <td>1</td>\n",
       "      <td>0</td>\n",
       "    </tr>\n",
       "  </tbody>\n",
       "</table>\n",
       "</div>"
      ],
      "text/plain": [
       "                                              review  rate  emotion\n",
       "1  원작이 칭송받는 이유는 웹툰 계 자체의 질적 저하가 심각하기 때문.  원작이나 영화...     1        0\n",
       "2  나름의  감동도 있고 안타까운 마음에 가슴도 먹먹  배우들의 연기가 good 김수현...    10        2\n",
       "3   이런걸 돈주고 본 내자신이 후회스럽다 최악의 쓰레기 영화 김수현 밖에없는 저질 삼류영화     1        0\n",
       "4                          초반엔 코미디, 후반엔 액션, 결론은 코미디.     7        2\n",
       "6                                  원작 어디에 팔아 먹었죠????     1        0"
      ]
     },
     "execution_count": 3,
     "metadata": {},
     "output_type": "execute_result"
    }
   ],
   "source": [
    "df = pd.read_csv('./dataset/review_data2.csv', sep=',', names=[\"review\",\"rate\",\"emotion\"])\n",
    "new_df = df.dropna()\n",
    "new_df = new_df[new_df.emotion != 1]\n",
    "new_df.head()"
   ]
  },
  {
   "cell_type": "code",
   "execution_count": 4,
   "metadata": {},
   "outputs": [],
   "source": [
    "\n",
    "# new_df = new_df[:10]"
   ]
  },
  {
   "cell_type": "code",
   "execution_count": null,
   "metadata": {},
   "outputs": [],
   "source": [
    "for i in new_df[\"review\"]:\n",
    "    stem = twitter.pos(i, norm=True, stem=True)\n",
    "    review2 = remove_stem(stem)            \n",
    "    with open('./dataset/review2.csv', 'a', encoding='utf-8', newline='') as f:\n",
    "        wr = csv.writer(f)\n",
    "        wr.writerow([review2])"
   ]
  },
  {
   "cell_type": "code",
   "execution_count": null,
   "metadata": {},
   "outputs": [],
   "source": [
    "new_df = new_df.reset_index()\n",
    "s = s.reset_index()\n",
    "result = pd.concat([new_df, s], axis=1)\n",
    "result = result.drop('index', 1)\n",
    "result"
   ]
  },
  {
   "cell_type": "code",
   "execution_count": null,
   "metadata": {},
   "outputs": [],
   "source": []
  },
  {
   "cell_type": "code",
   "execution_count": 31,
   "metadata": {},
   "outputs": [],
   "source": [
    "review2 = pd.read_csv('./dataset/review2.csv', sep=',',names=[\"review2\"])"
   ]
  },
  {
   "cell_type": "code",
   "execution_count": 32,
   "metadata": {},
   "outputs": [
    {
     "data": {
      "text/plain": [
       "620776"
      ]
     },
     "execution_count": 32,
     "metadata": {},
     "output_type": "execute_result"
    }
   ],
   "source": [
    "len(review2)"
   ]
  },
  {
   "cell_type": "code",
   "execution_count": 30,
   "metadata": {},
   "outputs": [
    {
     "data": {
      "text/plain": [
       "620776"
      ]
     },
     "execution_count": 30,
     "metadata": {},
     "output_type": "execute_result"
    }
   ],
   "source": [
    "df = pd.read_csv('./dataset/review_data2.csv', sep=',', names=[\"review\",\"rate\",\"emotion\"])\n",
    "new_df = df.dropna()\n",
    "new_df = new_df[new_df.emotion != 1]\n",
    "len(new_df)"
   ]
  },
  {
   "cell_type": "code",
   "execution_count": 33,
   "metadata": {},
   "outputs": [
    {
     "data": {
      "text/html": [
       "<div>\n",
       "<style scoped>\n",
       "    .dataframe tbody tr th:only-of-type {\n",
       "        vertical-align: middle;\n",
       "    }\n",
       "\n",
       "    .dataframe tbody tr th {\n",
       "        vertical-align: top;\n",
       "    }\n",
       "\n",
       "    .dataframe thead th {\n",
       "        text-align: right;\n",
       "    }\n",
       "</style>\n",
       "<table border=\"1\" class=\"dataframe\">\n",
       "  <thead>\n",
       "    <tr style=\"text-align: right;\">\n",
       "      <th></th>\n",
       "      <th>index</th>\n",
       "      <th>review</th>\n",
       "      <th>rate</th>\n",
       "      <th>emotion</th>\n",
       "      <th>index</th>\n",
       "      <th>review2</th>\n",
       "    </tr>\n",
       "  </thead>\n",
       "  <tbody>\n",
       "    <tr>\n",
       "      <th>0</th>\n",
       "      <td>1</td>\n",
       "      <td>원작이 칭송받는 이유는 웹툰 계 자체의 질적 저하가 심각하기 때문.  원작이나 영화...</td>\n",
       "      <td>1</td>\n",
       "      <td>0</td>\n",
       "      <td>0</td>\n",
       "      <td>원작 칭송 받다 이유 웹툰 계 자체 질적 저하 심각하다 때문 원작 영화 별로 건 마찬가지</td>\n",
       "    </tr>\n",
       "    <tr>\n",
       "      <th>1</th>\n",
       "      <td>2</td>\n",
       "      <td>나름의  감동도 있고 안타까운 마음에 가슴도 먹먹  배우들의 연기가 good 김수현...</td>\n",
       "      <td>10</td>\n",
       "      <td>2</td>\n",
       "      <td>1</td>\n",
       "      <td>나름 감동 있다 안타깝다 마음 가슴 먹다 먹다 배우 들 연기 good 김수현 최고</td>\n",
       "    </tr>\n",
       "    <tr>\n",
       "      <th>2</th>\n",
       "      <td>3</td>\n",
       "      <td>이런걸 돈주고 본 내자신이 후회스럽다 최악의 쓰레기 영화 김수현 밖에없는 저질 삼류영화</td>\n",
       "      <td>1</td>\n",
       "      <td>0</td>\n",
       "      <td>2</td>\n",
       "      <td>이런 걸 돈 주다 보다 내 자신 후회 스럽다 최악 쓰레기 영화 김수현 밖 없다 저 ...</td>\n",
       "    </tr>\n",
       "    <tr>\n",
       "      <th>3</th>\n",
       "      <td>4</td>\n",
       "      <td>초반엔 코미디, 후반엔 액션, 결론은 코미디.</td>\n",
       "      <td>7</td>\n",
       "      <td>2</td>\n",
       "      <td>3</td>\n",
       "      <td>초반 코미디 후반 액션 결론 코미디</td>\n",
       "    </tr>\n",
       "    <tr>\n",
       "      <th>4</th>\n",
       "      <td>6</td>\n",
       "      <td>원작 어디에 팔아 먹었죠????</td>\n",
       "      <td>1</td>\n",
       "      <td>0</td>\n",
       "      <td>4</td>\n",
       "      <td>원작 어디 팔 먹다</td>\n",
       "    </tr>\n",
       "  </tbody>\n",
       "</table>\n",
       "</div>"
      ],
      "text/plain": [
       "   index                                             review  rate  emotion  \\\n",
       "0      1  원작이 칭송받는 이유는 웹툰 계 자체의 질적 저하가 심각하기 때문.  원작이나 영화...     1        0   \n",
       "1      2  나름의  감동도 있고 안타까운 마음에 가슴도 먹먹  배우들의 연기가 good 김수현...    10        2   \n",
       "2      3   이런걸 돈주고 본 내자신이 후회스럽다 최악의 쓰레기 영화 김수현 밖에없는 저질 삼류영화     1        0   \n",
       "3      4                          초반엔 코미디, 후반엔 액션, 결론은 코미디.     7        2   \n",
       "4      6                                  원작 어디에 팔아 먹었죠????     1        0   \n",
       "\n",
       "   index                                            review2  \n",
       "0      0  원작 칭송 받다 이유 웹툰 계 자체 질적 저하 심각하다 때문 원작 영화 별로 건 마찬가지  \n",
       "1      1      나름 감동 있다 안타깝다 마음 가슴 먹다 먹다 배우 들 연기 good 김수현 최고  \n",
       "2      2  이런 걸 돈 주다 보다 내 자신 후회 스럽다 최악 쓰레기 영화 김수현 밖 없다 저 ...  \n",
       "3      3                                초반 코미디 후반 액션 결론 코미디  \n",
       "4      4                                         원작 어디 팔 먹다  "
      ]
     },
     "execution_count": 33,
     "metadata": {},
     "output_type": "execute_result"
    }
   ],
   "source": [
    "new_df = new_df.reset_index()\n",
    "review2 = review2.reset_index()\n",
    "\n",
    "result = pd.concat([new_df, review2], axis=1)\n",
    "result.head()"
   ]
  },
  {
   "cell_type": "code",
   "execution_count": 34,
   "metadata": {},
   "outputs": [],
   "source": [
    "result = result.drop('index', 1)\n",
    "\n"
   ]
  },
  {
   "cell_type": "code",
   "execution_count": 35,
   "metadata": {},
   "outputs": [],
   "source": [
    "result = result.replace({'emotion': 2}, 1)"
   ]
  },
  {
   "cell_type": "code",
   "execution_count": 36,
   "metadata": {},
   "outputs": [
    {
     "data": {
      "text/html": [
       "<div>\n",
       "<style scoped>\n",
       "    .dataframe tbody tr th:only-of-type {\n",
       "        vertical-align: middle;\n",
       "    }\n",
       "\n",
       "    .dataframe tbody tr th {\n",
       "        vertical-align: top;\n",
       "    }\n",
       "\n",
       "    .dataframe thead th {\n",
       "        text-align: right;\n",
       "    }\n",
       "</style>\n",
       "<table border=\"1\" class=\"dataframe\">\n",
       "  <thead>\n",
       "    <tr style=\"text-align: right;\">\n",
       "      <th></th>\n",
       "      <th>review</th>\n",
       "      <th>rate</th>\n",
       "      <th>emotion</th>\n",
       "      <th>review2</th>\n",
       "    </tr>\n",
       "  </thead>\n",
       "  <tbody>\n",
       "    <tr>\n",
       "      <th>0</th>\n",
       "      <td>원작이 칭송받는 이유는 웹툰 계 자체의 질적 저하가 심각하기 때문.  원작이나 영화...</td>\n",
       "      <td>1</td>\n",
       "      <td>0</td>\n",
       "      <td>원작 칭송 받다 이유 웹툰 계 자체 질적 저하 심각하다 때문 원작 영화 별로 건 마찬가지</td>\n",
       "    </tr>\n",
       "    <tr>\n",
       "      <th>1</th>\n",
       "      <td>나름의  감동도 있고 안타까운 마음에 가슴도 먹먹  배우들의 연기가 good 김수현...</td>\n",
       "      <td>10</td>\n",
       "      <td>1</td>\n",
       "      <td>나름 감동 있다 안타깝다 마음 가슴 먹다 먹다 배우 들 연기 good 김수현 최고</td>\n",
       "    </tr>\n",
       "    <tr>\n",
       "      <th>2</th>\n",
       "      <td>이런걸 돈주고 본 내자신이 후회스럽다 최악의 쓰레기 영화 김수현 밖에없는 저질 삼류영화</td>\n",
       "      <td>1</td>\n",
       "      <td>0</td>\n",
       "      <td>이런 걸 돈 주다 보다 내 자신 후회 스럽다 최악 쓰레기 영화 김수현 밖 없다 저 ...</td>\n",
       "    </tr>\n",
       "    <tr>\n",
       "      <th>3</th>\n",
       "      <td>초반엔 코미디, 후반엔 액션, 결론은 코미디.</td>\n",
       "      <td>7</td>\n",
       "      <td>1</td>\n",
       "      <td>초반 코미디 후반 액션 결론 코미디</td>\n",
       "    </tr>\n",
       "    <tr>\n",
       "      <th>4</th>\n",
       "      <td>원작 어디에 팔아 먹었죠????</td>\n",
       "      <td>1</td>\n",
       "      <td>0</td>\n",
       "      <td>원작 어디 팔 먹다</td>\n",
       "    </tr>\n",
       "  </tbody>\n",
       "</table>\n",
       "</div>"
      ],
      "text/plain": [
       "                                              review  rate  emotion  \\\n",
       "0  원작이 칭송받는 이유는 웹툰 계 자체의 질적 저하가 심각하기 때문.  원작이나 영화...     1        0   \n",
       "1  나름의  감동도 있고 안타까운 마음에 가슴도 먹먹  배우들의 연기가 good 김수현...    10        1   \n",
       "2   이런걸 돈주고 본 내자신이 후회스럽다 최악의 쓰레기 영화 김수현 밖에없는 저질 삼류영화     1        0   \n",
       "3                          초반엔 코미디, 후반엔 액션, 결론은 코미디.     7        1   \n",
       "4                                  원작 어디에 팔아 먹었죠????     1        0   \n",
       "\n",
       "                                             review2  \n",
       "0  원작 칭송 받다 이유 웹툰 계 자체 질적 저하 심각하다 때문 원작 영화 별로 건 마찬가지  \n",
       "1      나름 감동 있다 안타깝다 마음 가슴 먹다 먹다 배우 들 연기 good 김수현 최고  \n",
       "2  이런 걸 돈 주다 보다 내 자신 후회 스럽다 최악 쓰레기 영화 김수현 밖 없다 저 ...  \n",
       "3                                초반 코미디 후반 액션 결론 코미디  \n",
       "4                                         원작 어디 팔 먹다  "
      ]
     },
     "execution_count": 36,
     "metadata": {},
     "output_type": "execute_result"
    }
   ],
   "source": [
    "result.head()"
   ]
  },
  {
   "cell_type": "code",
   "execution_count": 37,
   "metadata": {},
   "outputs": [],
   "source": [
    "result.to_csv('./dataset/josa_none_dataset', sep=',', index=False)"
   ]
  },
  {
   "cell_type": "code",
   "execution_count": 38,
   "metadata": {},
   "outputs": [
    {
     "data": {
      "text/html": [
       "<div>\n",
       "<style scoped>\n",
       "    .dataframe tbody tr th:only-of-type {\n",
       "        vertical-align: middle;\n",
       "    }\n",
       "\n",
       "    .dataframe tbody tr th {\n",
       "        vertical-align: top;\n",
       "    }\n",
       "\n",
       "    .dataframe thead th {\n",
       "        text-align: right;\n",
       "    }\n",
       "</style>\n",
       "<table border=\"1\" class=\"dataframe\">\n",
       "  <thead>\n",
       "    <tr style=\"text-align: right;\">\n",
       "      <th></th>\n",
       "      <th>review</th>\n",
       "      <th>rate</th>\n",
       "      <th>emotion</th>\n",
       "      <th>review2</th>\n",
       "    </tr>\n",
       "  </thead>\n",
       "  <tbody>\n",
       "    <tr>\n",
       "      <th>0</th>\n",
       "      <td>원작이 칭송받는 이유는 웹툰 계 자체의 질적 저하가 심각하기 때문.  원작이나 영화...</td>\n",
       "      <td>1</td>\n",
       "      <td>0</td>\n",
       "      <td>원작 칭송 받다 이유 웹툰 계 자체 질적 저하 심각하다 때문 원작 영화 별로 건 마찬가지</td>\n",
       "    </tr>\n",
       "    <tr>\n",
       "      <th>1</th>\n",
       "      <td>나름의  감동도 있고 안타까운 마음에 가슴도 먹먹  배우들의 연기가 good 김수현...</td>\n",
       "      <td>10</td>\n",
       "      <td>1</td>\n",
       "      <td>나름 감동 있다 안타깝다 마음 가슴 먹다 먹다 배우 들 연기 good 김수현 최고</td>\n",
       "    </tr>\n",
       "    <tr>\n",
       "      <th>2</th>\n",
       "      <td>이런걸 돈주고 본 내자신이 후회스럽다 최악의 쓰레기 영화 김수현 밖에없는 저질 삼류영화</td>\n",
       "      <td>1</td>\n",
       "      <td>0</td>\n",
       "      <td>이런 걸 돈 주다 보다 내 자신 후회 스럽다 최악 쓰레기 영화 김수현 밖 없다 저 ...</td>\n",
       "    </tr>\n",
       "    <tr>\n",
       "      <th>3</th>\n",
       "      <td>초반엔 코미디, 후반엔 액션, 결론은 코미디.</td>\n",
       "      <td>7</td>\n",
       "      <td>1</td>\n",
       "      <td>초반 코미디 후반 액션 결론 코미디</td>\n",
       "    </tr>\n",
       "    <tr>\n",
       "      <th>4</th>\n",
       "      <td>원작 어디에 팔아 먹었죠????</td>\n",
       "      <td>1</td>\n",
       "      <td>0</td>\n",
       "      <td>원작 어디 팔 먹다</td>\n",
       "    </tr>\n",
       "  </tbody>\n",
       "</table>\n",
       "</div>"
      ],
      "text/plain": [
       "                                              review  rate  emotion  \\\n",
       "0  원작이 칭송받는 이유는 웹툰 계 자체의 질적 저하가 심각하기 때문.  원작이나 영화...     1        0   \n",
       "1  나름의  감동도 있고 안타까운 마음에 가슴도 먹먹  배우들의 연기가 good 김수현...    10        1   \n",
       "2   이런걸 돈주고 본 내자신이 후회스럽다 최악의 쓰레기 영화 김수현 밖에없는 저질 삼류영화     1        0   \n",
       "3                          초반엔 코미디, 후반엔 액션, 결론은 코미디.     7        1   \n",
       "4                                  원작 어디에 팔아 먹었죠????     1        0   \n",
       "\n",
       "                                             review2  \n",
       "0  원작 칭송 받다 이유 웹툰 계 자체 질적 저하 심각하다 때문 원작 영화 별로 건 마찬가지  \n",
       "1      나름 감동 있다 안타깝다 마음 가슴 먹다 먹다 배우 들 연기 good 김수현 최고  \n",
       "2  이런 걸 돈 주다 보다 내 자신 후회 스럽다 최악 쓰레기 영화 김수현 밖 없다 저 ...  \n",
       "3                                초반 코미디 후반 액션 결론 코미디  \n",
       "4                                         원작 어디 팔 먹다  "
      ]
     },
     "execution_count": 38,
     "metadata": {},
     "output_type": "execute_result"
    }
   ],
   "source": [
    "df = pd.read_csv('./dataset/josa_none_dataset.csv', sep=',')\n",
    "df.head()"
   ]
  },
  {
   "cell_type": "code",
   "execution_count": null,
   "metadata": {},
   "outputs": [],
   "source": []
  }
 ],
 "metadata": {
  "kernelspec": {
   "display_name": "Python 3",
   "language": "python",
   "name": "python3"
  },
  "language_info": {
   "codemirror_mode": {
    "name": "ipython",
    "version": 3
   },
   "file_extension": ".py",
   "mimetype": "text/x-python",
   "name": "python",
   "nbconvert_exporter": "python",
   "pygments_lexer": "ipython3",
   "version": "3.6.5"
  }
 },
 "nbformat": 4,
 "nbformat_minor": 2
}
