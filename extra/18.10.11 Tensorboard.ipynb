{
 "cells": [
  {
   "cell_type": "code",
   "execution_count": 1,
   "metadata": {},
   "outputs": [
    {
     "ename": "SyntaxError",
     "evalue": "invalid syntax (<ipython-input-1-8e173f298cd9>, line 7)",
     "output_type": "error",
     "traceback": [
      "\u001b[0;36m  File \u001b[0;32m\"<ipython-input-1-8e173f298cd9>\"\u001b[0;36m, line \u001b[0;32m7\u001b[0m\n\u001b[0;31m    def run cnn():\u001b[0m\n\u001b[0m              ^\u001b[0m\n\u001b[0;31mSyntaxError\u001b[0m\u001b[0;31m:\u001b[0m invalid syntax\n"
     ]
    }
   ],
   "source": [
    "import numpy as np\n",
    "import matplotlib.pyplot as plt\n",
    "import tensorflow as tf\n",
    "\n",
    "from cnn_model import *\n",
    "\n",
    "def run cnn():\n",
    "    mnist = tf.keras.datasets.mnist\n",
    "\n",
    "    (x_train, y_train), (x_test, y_test) = mnist.load_data()\n",
    "\n",
    "    # Build Model\n",
    "\n",
    "    height = 28\n",
    "    width = 28\n",
    "\n",
    "    # None은 지정되지 않은 값. Batch Size는 아직 정하지 않았기 때문에 모르는 값으로 넣어준다 \n",
    "    x = tf.placeholder('float', shape=[None, height, width, num_channel], name='data_input')  \n",
    "    y = tf.placeholder('float', shape=[None, num_classes], name='data_output')\n",
    "\n",
    "    # w1 = tf.Variable(tf.random_normal([n_input, 256], stddev=0.1), name='w1')\n",
    "    # b1 = tf.Variable(tf.random_normal([256], stddev=0.1), name='b1')\n",
    "    # layer_1 = tf.add(tf.matmul(data_input, w1), b1, name='layer_2')\n",
    "\n",
    "    # Convolution     return logit\n",
    "\n",
    "    pred = cnn(x)\n",
    "\n",
    "    cost = tf.reduce_mean(tf.nn.softmax_cross_entropy_with_logits_v2(logits=pred, labels=y))\n",
    "    optm = tf.train.GradientDescentOptimizer(learning_rate=0.001).minimize(cost)\n",
    "\n",
    "    corr = tf.equal(tf.argmax(pred, axis=1), tf.argmax(y, 1))\n",
    "    accr = tf.reduce_mean(tf.cast(corr, 'float'))\n",
    "\n",
    "    init = tf.global_variables_initializer()\n",
    "    print(\"Functions Ready~!!!\")\n",
    "\n",
    "\n",
    "\n",
    "    num_epochs = 20\n",
    "    batch_size = 64\n",
    "    display_step = 1\n",
    "\n",
    "    with tf.Session() as sess:\n",
    "        sess.run(init)\n",
    "\n",
    "        num_batches = int(len(x_train) // batch_size)\n",
    "        for epoch in range(num_epochs):\n",
    "            accr_total = 0.\n",
    "\n",
    "            trainset = [(x.reshape(height, width, 1), onehot_encoder(y)) for x, y in zip(x_train, y_train)]\n",
    "            np.random.shuffle(trainset)\n",
    "            for step in range(num_batches):\n",
    "                train_batch = trainset[step * batch_size : (step + 1) * batch_size]\n",
    "                train_x = []\n",
    "                train_y = []\n",
    "                for batches in train_batch:\n",
    "                    train_x.append(batches[0])\n",
    "                    train_y.append(batches[1])\n",
    "\n",
    "                feed_dict = {x: np.array(train_x), y:np.array(train_y)}\n",
    "                _, accr_value = sess.run([optm, accr], feed_dict)\n",
    "\n",
    "                accr_total += accr_value\n",
    "\n",
    "            accuracy = accr_total / num_batches\n",
    "            print('Accuracy of Epoch %d is %.4f' % (epoch, accuracy))"
   ]
  },
  {
   "cell_type": "code",
   "execution_count": null,
   "metadata": {},
   "outputs": [],
   "source": []
  }
 ],
 "metadata": {
  "kernelspec": {
   "display_name": "Python 3",
   "language": "python",
   "name": "python3"
  },
  "language_info": {
   "codemirror_mode": {
    "name": "ipython",
    "version": 3
   },
   "file_extension": ".py",
   "mimetype": "text/x-python",
   "name": "python",
   "nbconvert_exporter": "python",
   "pygments_lexer": "ipython3",
   "version": "3.6.5"
  }
 },
 "nbformat": 4,
 "nbformat_minor": 2
}
